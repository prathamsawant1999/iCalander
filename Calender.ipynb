{
 "cells": [
  {
   "cell_type": "code",
   "execution_count": 1,
   "id": "9ec5a953-ba19-4328-8b59-f6e6636df0a0",
   "metadata": {},
   "outputs": [],
   "source": [
    "from icalendar import Calendar, Event, vCalAddress, vText\n",
    "import pytz\n",
    "from datetime import datetime,timedelta\n",
    "import os\n",
    "from pathlib import Path\n",
    "import pandas as pd\n",
    "\n",
    "cal = Calendar() \n",
    "event1 = Event() # add or delete the number of events \n",
    "event2 = Event()\n",
    "event3 = Event()\n",
    "event4 = Event()\n",
    "\n",
    "\n",
    "date1=datetime(2022,5,7,12, 0, 0) #YYYY/MM/DD HH.MM.SS format change accordinngly \n",
    "n1=4 # Add hours to end time \n",
    "date2=datetime(2022,5,8,12, 0, 0)\n",
    "n2=4\n",
    "date3=datetime(2022,5,9,12, 0, 0)\n",
    "n3=4\n",
    "date4=datetime(2022,5,10,12, 0, 0)\n",
    "n4=4\n",
    "event1.add('summary', '5guys')\n",
    "event1.add('dtstart', date1)\n",
    "event1.add('dtend', date1+pd.DateOffset(hours=n1)) # if end date in minutes chnage here to minutes and also chnage above \n",
    "\n",
    "event2.add('summary', '5guys')\n",
    "event2.add('dtstart', date2)\n",
    "event2.add('dtend', date2+pd.DateOffset(hours=n2))\n",
    "\n",
    "event3.add('summary', '5guys')\n",
    "event3.add('dtstart', date3)\n",
    "event3.add('dtend', date3+pd.DateOffset(hours=n3))\n",
    "\n",
    "event4.add('summary', '5guys')\n",
    "event4.add('dtstart', date4)\n",
    "event4.add('dtend', date4+pd.DateOffset(hours=n4))\n",
    "\n",
    "# Adding events to calendar\n",
    "cal.add_component(event1) #if added more events or deleted some chnage here as well \n",
    "cal.add_component(event2)\n",
    "cal.add_component(event3)\n",
    "cal.add_component(event4)\n",
    "\n",
    "\n",
    "f = open(os.path.join('calender.ics'), 'wb') # make sure to open in wb and chnage name if you want to chnage name of ics file \n",
    "f.write(cal.to_ical())\n",
    "f.close()"
   ]
  }
 ],
 "metadata": {
  "kernelspec": {
   "display_name": "Python 3 (ipykernel)",
   "language": "python",
   "name": "python3"
  },
  "language_info": {
   "codemirror_mode": {
    "name": "ipython",
    "version": 3
   },
   "file_extension": ".py",
   "mimetype": "text/x-python",
   "name": "python",
   "nbconvert_exporter": "python",
   "pygments_lexer": "ipython3",
   "version": "3.10.3"
  }
 },
 "nbformat": 4,
 "nbformat_minor": 5
}
